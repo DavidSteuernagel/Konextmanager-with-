{
 "cells": [
  {
   "cell_type": "code",
   "execution_count": 2,
   "id": "3299cbd9-e12a-4e21-9e90-95dbce38088c",
   "metadata": {},
   "outputs": [
    {
     "name": "stdout",
     "output_type": "stream",
     "text": [
      "Vergangene Zeit: 0.0922 Sekunden\n"
     ]
    }
   ],
   "source": [
    "import time\n",
    "\n",
    "class Timer:\n",
    "    def __enter__(self):\n",
    "        self.start=time.time()\n",
    "        return self\n",
    "\n",
    "    def __exit__(self, exc_type, exc_val, exc_tb):\n",
    "        self.end=time.time()\n",
    "        print (f'Vergangene Zeit: {self.end-self.start:.4f} Sekunden')\n",
    "\n",
    "with Timer () as t:\n",
    "    summe = 0\n",
    "    for i in range (10**6):\n",
    "        summe += i"
   ]
  }
 ],
 "metadata": {
  "kernelspec": {
   "display_name": "Python 3 (ipykernel)",
   "language": "python",
   "name": "python3"
  },
  "language_info": {
   "codemirror_mode": {
    "name": "ipython",
    "version": 3
   },
   "file_extension": ".py",
   "mimetype": "text/x-python",
   "name": "python",
   "nbconvert_exporter": "python",
   "pygments_lexer": "ipython3",
   "version": "3.11.12"
  }
 },
 "nbformat": 4,
 "nbformat_minor": 5
}
